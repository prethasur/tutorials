{
  "nbformat": 4,
  "nbformat_minor": 0,
  "metadata": {
    "colab": {
      "provenance": [],
      "authorship_tag": "ABX9TyNcIjsgcHvVW+bWHRJvS6Lp",
      "include_colab_link": true
    },
    "kernelspec": {
      "name": "python3",
      "display_name": "Python 3"
    },
    "language_info": {
      "name": "python"
    },
    "accelerator": "GPU",
    "gpuClass": "standard"
  },
  "cells": [
    {
      "cell_type": "markdown",
      "metadata": {
        "id": "view-in-github",
        "colab_type": "text"
      },
      "source": [
        "<a href=\"https://colab.research.google.com/github/prethasur/tutorials/blob/main/pyTorch_tutorial.ipynb\" target=\"_parent\"><img src=\"https://colab.research.google.com/assets/colab-badge.svg\" alt=\"Open In Colab\"/></a>"
      ]
    },
    {
      "cell_type": "code",
      "source": [
        "!pip3 install torch torchvision torchaudio --extra-index-url https://download.pytorch.org/whl/cu116"
      ],
      "metadata": {
        "colab": {
          "base_uri": "https://localhost:8080/"
        },
        "id": "MNniKXXOhtl5",
        "outputId": "b413a5ae-06a5-408a-bbb1-ec7bc5e7cab5"
      },
      "execution_count": null,
      "outputs": [
        {
          "output_type": "stream",
          "name": "stdout",
          "text": [
            "Looking in indexes: https://pypi.org/simple, https://us-python.pkg.dev/colab-wheels/public/simple/, https://download.pytorch.org/whl/cu116\n",
            "Requirement already satisfied: torch in /usr/local/lib/python3.8/dist-packages (1.13.1+cu116)\n",
            "Requirement already satisfied: torchvision in /usr/local/lib/python3.8/dist-packages (0.14.1+cu116)\n",
            "Requirement already satisfied: torchaudio in /usr/local/lib/python3.8/dist-packages (0.13.1+cu116)\n",
            "Requirement already satisfied: typing-extensions in /usr/local/lib/python3.8/dist-packages (from torch) (4.4.0)\n",
            "Requirement already satisfied: requests in /usr/local/lib/python3.8/dist-packages (from torchvision) (2.25.1)\n",
            "Requirement already satisfied: numpy in /usr/local/lib/python3.8/dist-packages (from torchvision) (1.21.6)\n",
            "Requirement already satisfied: pillow!=8.3.*,>=5.3.0 in /usr/local/lib/python3.8/dist-packages (from torchvision) (7.1.2)\n",
            "Requirement already satisfied: certifi>=2017.4.17 in /usr/local/lib/python3.8/dist-packages (from requests->torchvision) (2022.12.7)\n",
            "Requirement already satisfied: urllib3<1.27,>=1.21.1 in /usr/local/lib/python3.8/dist-packages (from requests->torchvision) (1.24.3)\n",
            "Requirement already satisfied: chardet<5,>=3.0.2 in /usr/local/lib/python3.8/dist-packages (from requests->torchvision) (4.0.0)\n",
            "Requirement already satisfied: idna<3,>=2.5 in /usr/local/lib/python3.8/dist-packages (from requests->torchvision) (2.10)\n"
          ]
        }
      ]
    },
    {
      "cell_type": "code",
      "source": [
        "import torch"
      ],
      "metadata": {
        "id": "aiidhCqAhzno"
      },
      "execution_count": 1,
      "outputs": []
    },
    {
      "cell_type": "markdown",
      "source": [
        "##initializing tensors"
      ],
      "metadata": {
        "id": "UYDKH6VxiWtP"
      }
    },
    {
      "cell_type": "code",
      "source": [
        "device= \"cuda\" if torch.cuda.is_available() else \"cpu\""
      ],
      "metadata": {
        "id": "SCqWFe48klpD"
      },
      "execution_count": 2,
      "outputs": []
    },
    {
      "cell_type": "code",
      "source": [
        "#when you know the values\n",
        "my_tensor = torch.tensor([[1,2,3],[4,5,6]], dtype=torch.float32, device=device)\n",
        "print(my_tensor)"
      ],
      "metadata": {
        "colab": {
          "base_uri": "https://localhost:8080/"
        },
        "id": "mkhU8QZIh1bp",
        "outputId": "193e5210-5d95-4345-eb49-3b22cb1c11cb"
      },
      "execution_count": null,
      "outputs": [
        {
          "output_type": "stream",
          "name": "stdout",
          "text": [
            "tensor([[1., 2., 3.],\n",
            "        [4., 5., 6.]], device='cuda:0')\n"
          ]
        }
      ]
    },
    {
      "cell_type": "code",
      "source": [
        "print(my_tensor.device)\n",
        "print(my_tensor.shape)\n",
        "print(my_tensor.dtype)\n",
        "print(my_tensor.requires_grad)"
      ],
      "metadata": {
        "colab": {
          "base_uri": "https://localhost:8080/"
        },
        "id": "gYOkvRslk3jw",
        "outputId": "4bbccaf0-c418-42a0-d5f3-132839950274"
      },
      "execution_count": null,
      "outputs": [
        {
          "output_type": "stream",
          "name": "stdout",
          "text": [
            "cuda:0\n",
            "torch.Size([2, 3])\n",
            "torch.float32\n",
            "False\n"
          ]
        }
      ]
    },
    {
      "cell_type": "code",
      "source": [
        "garbage_tensor = torch.empty((3,3)) #creates a tensor of the said shape, but with garbage value exinsting in memory\n",
        "print(garbage_tensor)"
      ],
      "metadata": {
        "colab": {
          "base_uri": "https://localhost:8080/"
        },
        "id": "6yZJgt3lleUF",
        "outputId": "138398fd-5e5f-416e-f388-2db43ca6f659"
      },
      "execution_count": null,
      "outputs": [
        {
          "output_type": "stream",
          "name": "stdout",
          "text": [
            "tensor([[2.1715e-18, 2.3081e-12, 1.8590e+34],\n",
            "        [7.7767e+31, 1.7181e+19, 1.8990e+28],\n",
            "        [1.5766e-19, 1.4585e-19, 7.1856e+22]])\n"
          ]
        }
      ]
    },
    {
      "cell_type": "code",
      "source": [
        "zero_tensor=torch.zeros((3,3))\n",
        "print(zero_tensor)\n",
        "#same for torch.ones - 11111111"
      ],
      "metadata": {
        "colab": {
          "base_uri": "https://localhost:8080/"
        },
        "id": "xfgpfwJ0nR_9",
        "outputId": "11db0772-84ab-44c1-89eb-ebc29b921d47"
      },
      "execution_count": null,
      "outputs": [
        {
          "output_type": "stream",
          "name": "stdout",
          "text": [
            "tensor([[0., 0., 0.],\n",
            "        [0., 0., 0.],\n",
            "        [0., 0., 0.]])\n"
          ]
        }
      ]
    },
    {
      "cell_type": "code",
      "source": [
        "rand_tensor=torch.rand((3,3))\n",
        "print(rand_tensor)"
      ],
      "metadata": {
        "colab": {
          "base_uri": "https://localhost:8080/"
        },
        "id": "WqYR38KdnjQX",
        "outputId": "eaf14938-b4ca-4788-eab8-b6615d4a776e"
      },
      "execution_count": null,
      "outputs": [
        {
          "output_type": "stream",
          "name": "stdout",
          "text": [
            "tensor([[0.2574, 0.1368, 0.9879],\n",
            "        [0.1213, 0.1315, 0.6510],\n",
            "        [0.4548, 0.5182, 0.1744]])\n"
          ]
        }
      ]
    },
    {
      "cell_type": "code",
      "source": [
        "id_tensor=torch.eye(3,3)\n",
        "print(id_tensor)"
      ],
      "metadata": {
        "colab": {
          "base_uri": "https://localhost:8080/"
        },
        "id": "aKT9tfvOn3bm",
        "outputId": "ebec894d-3460-4209-802c-4da5081581fc"
      },
      "execution_count": null,
      "outputs": [
        {
          "output_type": "stream",
          "name": "stdout",
          "text": [
            "tensor([[1., 0., 0.],\n",
            "        [0., 1., 0.],\n",
            "        [0., 0., 1.]])\n"
          ]
        }
      ]
    },
    {
      "cell_type": "code",
      "source": [
        "range_tensor=torch.arange(start=0, end= 10, step=2) #like range\n",
        "print(range_tensor)"
      ],
      "metadata": {
        "colab": {
          "base_uri": "https://localhost:8080/"
        },
        "id": "fjd11MZuoAAs",
        "outputId": "8ab9a76e-936e-4748-81e0-cc92907674b5"
      },
      "execution_count": null,
      "outputs": [
        {
          "output_type": "stream",
          "name": "stdout",
          "text": [
            "tensor([0, 2, 4, 6, 8])\n"
          ]
        }
      ]
    },
    {
      "cell_type": "code",
      "source": [
        "lin_tensor=torch.linspace(start=0.1, end=0.5, steps=10)\n",
        "print(lin_tensor)"
      ],
      "metadata": {
        "colab": {
          "base_uri": "https://localhost:8080/"
        },
        "id": "T3Xp49rIpV1r",
        "outputId": "4544aaef-b19b-4391-c8f9-257d8e76e3de"
      },
      "execution_count": null,
      "outputs": [
        {
          "output_type": "stream",
          "name": "stdout",
          "text": [
            "tensor([0.1000, 0.1444, 0.1889, 0.2333, 0.2778, 0.3222, 0.3667, 0.4111, 0.4556,\n",
            "        0.5000])\n"
          ]
        }
      ]
    },
    {
      "cell_type": "code",
      "source": [
        "norm_tensor=torch.empty(1,10).normal_(mean=0, std=1) #can be for uniform distribution, log normal and others\n",
        "print(norm_tensor)"
      ],
      "metadata": {
        "colab": {
          "base_uri": "https://localhost:8080/"
        },
        "id": "ylzlek0-qcJ1",
        "outputId": "fb90a6d1-870e-4ad5-b1a5-c2e791f80389"
      },
      "execution_count": null,
      "outputs": [
        {
          "output_type": "stream",
          "name": "stdout",
          "text": [
            "tensor([[-0.1060,  0.4130,  0.4076, -1.4723,  0.6186, -1.3502,  1.0230, -0.4322,\n",
            "          0.6122, -0.4888]])\n"
          ]
        }
      ]
    },
    {
      "cell_type": "code",
      "source": [
        "diag_tensor=torch.diag(torch.rand(3)) # multiples identity matrix to the given tensor\n",
        "print(diag_tensor)"
      ],
      "metadata": {
        "colab": {
          "base_uri": "https://localhost:8080/"
        },
        "id": "UghBWJy-rCUO",
        "outputId": "2541f8d7-c357-49d8-e082-9230ac2d51e0"
      },
      "execution_count": null,
      "outputs": [
        {
          "output_type": "stream",
          "name": "stdout",
          "text": [
            "tensor([[0.9754, 0.0000, 0.0000],\n",
            "        [0.0000, 0.1168, 0.0000],\n",
            "        [0.0000, 0.0000, 0.1673]])\n"
          ]
        }
      ]
    },
    {
      "cell_type": "markdown",
      "source": [
        "\n",
        "##conversion to other types"
      ],
      "metadata": {
        "id": "c1uq0UX1tBp7"
      }
    },
    {
      "cell_type": "code",
      "source": [
        "x=torch.arange(10) #by default start is 0, step is 1"
      ],
      "metadata": {
        "id": "zKT13-cLsojn"
      },
      "execution_count": null,
      "outputs": []
    },
    {
      "cell_type": "markdown",
      "source": [
        "###data types"
      ],
      "metadata": {
        "id": "DFKwlmeiq2c1"
      }
    },
    {
      "cell_type": "code",
      "source": [
        "print(\n",
        "    x.bool(), '\\n',\n",
        "    x.short(), '\\n', #int16\n",
        "    x.long(), '\\n', #int64\n",
        "    x.float() #float32\n",
        ")"
      ],
      "metadata": {
        "colab": {
          "base_uri": "https://localhost:8080/"
        },
        "id": "3Vv0RGiltRMs",
        "outputId": "850a0702-9ee4-48a3-c87d-1182d9c66ceb"
      },
      "execution_count": null,
      "outputs": [
        {
          "output_type": "stream",
          "name": "stdout",
          "text": [
            "tensor([False,  True,  True,  True,  True,  True,  True,  True,  True,  True]) \n",
            " tensor([0, 1, 2, 3, 4, 5, 6, 7, 8, 9], dtype=torch.int16) \n",
            " tensor([0, 1, 2, 3, 4, 5, 6, 7, 8, 9]) \n",
            " tensor([0., 1., 2., 3., 4., 5., 6., 7., 8., 9.])\n"
          ]
        }
      ]
    },
    {
      "cell_type": "markdown",
      "source": [
        "###to numpy array and vice versa"
      ],
      "metadata": {
        "id": "TQTB8jhUq5sx"
      }
    },
    {
      "cell_type": "code",
      "source": [
        "import numpy as np\n",
        "np_array=np.zeros((3,3))\n",
        "tensor=torch.from_numpy(np_array)\n",
        "print (np_array, '\\n', tensor)"
      ],
      "metadata": {
        "colab": {
          "base_uri": "https://localhost:8080/"
        },
        "id": "sFer6BBztaal",
        "outputId": "46759823-bd47-4f3c-a602-f548a986726e"
      },
      "execution_count": null,
      "outputs": [
        {
          "output_type": "stream",
          "name": "stdout",
          "text": [
            "[[0. 0. 0.]\n",
            " [0. 0. 0.]\n",
            " [0. 0. 0.]] \n",
            " tensor([[0., 0., 0.],\n",
            "        [0., 0., 0.],\n",
            "        [0., 0., 0.]], dtype=torch.float64)\n"
          ]
        }
      ]
    },
    {
      "cell_type": "code",
      "source": [
        "np_back = tensor.numpy()\n",
        "print(np_back)"
      ],
      "metadata": {
        "colab": {
          "base_uri": "https://localhost:8080/"
        },
        "id": "KgZ89S1qr39U",
        "outputId": "1bfcb55e-ecb5-4017-cdc2-a93ff1af11c7"
      },
      "execution_count": null,
      "outputs": [
        {
          "output_type": "stream",
          "name": "stdout",
          "text": [
            "[[0. 0. 0.]\n",
            " [0. 0. 0.]\n",
            " [0. 0. 0.]]\n"
          ]
        }
      ]
    },
    {
      "cell_type": "markdown",
      "source": [
        "##arithmatic & logical operations"
      ],
      "metadata": {
        "id": "IIqth9_K1S9q"
      }
    },
    {
      "cell_type": "code",
      "source": [
        "#add\n",
        "x= torch.tensor([1,2,3])\n",
        "y= torch.tensor([9,8,7])\n",
        "z= torch.add(x,y) # or just z= x+y\n",
        "print(z)"
      ],
      "metadata": {
        "colab": {
          "base_uri": "https://localhost:8080/"
        },
        "id": "uXt4QepQ1Nlc",
        "outputId": "7173bcb6-2e3a-46ec-9777-89746c6ce52e"
      },
      "execution_count": null,
      "outputs": [
        {
          "output_type": "stream",
          "name": "stdout",
          "text": [
            "tensor([10, 10, 10])\n"
          ]
        }
      ]
    },
    {
      "cell_type": "code",
      "source": [
        "# substract\n",
        "z=x-y\n",
        "print(z)"
      ],
      "metadata": {
        "colab": {
          "base_uri": "https://localhost:8080/"
        },
        "id": "qMYo4GoF2aVZ",
        "outputId": "e2200541-5550-4e8b-e4d2-aa2a372b6adc"
      },
      "execution_count": null,
      "outputs": [
        {
          "output_type": "stream",
          "name": "stdout",
          "text": [
            "tensor([-8, -6, -4])\n"
          ]
        }
      ]
    },
    {
      "cell_type": "code",
      "source": [
        "# division\n",
        "z= torch.true_division(x,y) #elementwise division if x and y are of same shape"
      ],
      "metadata": {
        "id": "k7H71EpO2tbE"
      },
      "execution_count": null,
      "outputs": []
    },
    {
      "cell_type": "markdown",
      "source": [
        "###inplace operations\n",
        "they always have an -(underscore)"
      ],
      "metadata": {
        "id": "ivO-HYhtGFye"
      }
    },
    {
      "cell_type": "code",
      "source": [
        "t=torch.zeros([3,3])"
      ],
      "metadata": {
        "id": "FH-3-cdPF75Z"
      },
      "execution_count": null,
      "outputs": []
    },
    {
      "cell_type": "code",
      "source": [
        "t.add_(x)\n",
        "print(t)"
      ],
      "metadata": {
        "colab": {
          "base_uri": "https://localhost:8080/"
        },
        "id": "468ddcQMGSog",
        "outputId": "aad3bf79-0a8f-43a8-967b-93b3847a2c3e"
      },
      "execution_count": null,
      "outputs": [
        {
          "output_type": "stream",
          "name": "stdout",
          "text": [
            "tensor([[1., 2., 3.],\n",
            "        [1., 2., 3.],\n",
            "        [1., 2., 3.]])\n"
          ]
        }
      ]
    },
    {
      "cell_type": "markdown",
      "source": [
        "###matrix multiplication"
      ],
      "metadata": {
        "id": "gCl25AgH1-VX"
      }
    },
    {
      "cell_type": "code",
      "source": [
        "x1=torch.rand(2,3)\n",
        "x2=torch.rand(3,5)\n",
        "x3=torch.mm(x1,x2) #2x5\n",
        "print(x3)"
      ],
      "metadata": {
        "colab": {
          "base_uri": "https://localhost:8080/"
        },
        "id": "zOu0b12yGaBy",
        "outputId": "077e0b51-3977-4090-8cda-53ad8ea1ffa8"
      },
      "execution_count": null,
      "outputs": [
        {
          "output_type": "stream",
          "name": "stdout",
          "text": [
            "tensor([[0.5147, 1.0088, 0.9383, 0.3045, 0.5336],\n",
            "        [0.1824, 0.6290, 0.4186, 0.1378, 0.2911]])\n"
          ]
        }
      ]
    },
    {
      "cell_type": "code",
      "source": [
        "# Batch Matrix Multiplication\n",
        "batch = 32\n",
        "n = 10\n",
        "m = 20\n",
        "p = 30\n",
        "tensor1 = torch.rand((batch, n, m))\n",
        "tensor2 = torch.rand((batch, m, p))\n",
        "out_bmm = torch.bmm (tensor1, tensor2) # (batch, n, p)\n",
        "# Example of Broadcasting\n",
        "x1 = torch.rand((5,5))\n",
        "x2 = torch.rand((1,5))\n",
        "z = x1 - x2\n",
        "z = x1 ** x2\n",
        "# Other useful tensor operations \n",
        "sum_x = torch.sum(x, dim=0)\n",
        "values, indices = torch.max(x, dim=8)\n",
        "values, indices = torch.min(x, dim=8)\n",
        "abs_x = torch.abs(x)\n",
        "z = torch.argmax(x, dim=0)\n",
        "z = torch.argmin(x, dim=0)\n",
        "mean_x = torch.mean(x.float(), dim=8)\n",
        "z = torch.eq(x, y)|"
      ],
      "metadata": {
        "id": "UVBzlK_U2aBn"
      },
      "execution_count": null,
      "outputs": []
    },
    {
      "cell_type": "code",
      "source": [
        "sorted_y=torch.sort(y,dim=0, descending=False)\n",
        "z=torch.clamp(x,min=0,max=10) #all values outside 0 to 10 will be made 0"
      ],
      "metadata": {
        "id": "MC80TjjPLBB2"
      },
      "execution_count": null,
      "outputs": []
    },
    {
      "cell_type": "markdown",
      "source": [
        "###indexing"
      ],
      "metadata": {
        "id": "aXG_ob2oLm5g"
      }
    },
    {
      "cell_type": "code",
      "source": [
        "batch_size=10\n",
        "features=25\n",
        "x=torch.rand((batch_size, features))\n",
        "\n",
        "print(x[0].shape)\n",
        "print(x[:,0].shape)\n",
        "print(x[2,0:10]) #3rd row, 0 to 10 cols"
      ],
      "metadata": {
        "colab": {
          "base_uri": "https://localhost:8080/"
        },
        "id": "7m-Yyrt4Lfrc",
        "outputId": "acec12e7-72e2-4e68-d21d-76aadfb751eb"
      },
      "execution_count": 4,
      "outputs": [
        {
          "output_type": "stream",
          "name": "stdout",
          "text": [
            "torch.Size([25])\n",
            "torch.Size([10])\n",
            "tensor([0.1537, 0.3024, 0.4621, 0.0962, 0.7080, 0.8161, 0.5329, 0.5000, 0.5683,\n",
            "        0.0653])\n"
          ]
        }
      ]
    },
    {
      "cell_type": "code",
      "source": [
        "# More advanced indexing\n",
        "x = torch.arange(10)\n",
        "print(x[(x < 2) & (x > 8)])\n",
        "print(x[x.remainder(2)==0])\n"
      ],
      "metadata": {
        "colab": {
          "base_uri": "https://localhost:8080/"
        },
        "id": "01M1qr-IMbon",
        "outputId": "ee5be683-ff9d-4b38-bb9f-43af064f3372"
      },
      "execution_count": 8,
      "outputs": [
        {
          "output_type": "stream",
          "name": "stdout",
          "text": [
            "tensor([], dtype=torch.int64)\n",
            "tensor([0, 2, 4, 6, 8])\n"
          ]
        }
      ]
    },
    {
      "cell_type": "code",
      "source": [
        "# Useful operations \n",
        "print(torch.where(x > 5, x, x*2))\n",
        "print(torch.tensor ([0,0,1,2,2,3,4]).unique()) \n",
        "print(x.ndimension())  \n",
        "print(x.numel()) #number of elements"
      ],
      "metadata": {
        "colab": {
          "base_uri": "https://localhost:8080/"
        },
        "id": "RdfcrEAmNkYE",
        "outputId": "9198c5bf-c4c6-4293-8735-dd3b46d26464"
      },
      "execution_count": 9,
      "outputs": [
        {
          "output_type": "stream",
          "name": "stdout",
          "text": [
            "tensor([ 0,  2,  4,  6,  8, 10,  6,  7,  8,  9])\n",
            "tensor([0, 1, 2, 3, 4])\n",
            "1\n",
            "10\n"
          ]
        }
      ]
    },
    {
      "cell_type": "code",
      "source": [
        "#Tensor Reshaping\n",
        "x = torch.arange(9)\n",
        "x_3x3 = x.view(3, 3)\n",
        "print(x_3x3)\n",
        "x_3x3 = x.reshape(3, 3)\n",
        "y = x_3x3.t() \n",
        "print(y)"
      ],
      "metadata": {
        "colab": {
          "base_uri": "https://localhost:8080/"
        },
        "id": "pvV67JQaOS0F",
        "outputId": "3875bb56-ab34-43db-cbd6-200d2049d889"
      },
      "execution_count": 14,
      "outputs": [
        {
          "output_type": "stream",
          "name": "stdout",
          "text": [
            "tensor([[0, 1, 2],\n",
            "        [3, 4, 5],\n",
            "        [6, 7, 8]])\n",
            "tensor([[0, 3, 6],\n",
            "        [1, 4, 7],\n",
            "        [2, 5, 8]])\n"
          ]
        }
      ]
    },
    {
      "cell_type": "code",
      "source": [
        "x1 = torch.rand((2, 5))\n",
        "x2 = torch.rand((2, 5))\n",
        "print(torch.cat((x1, x2), dim=0).shape)\n",
        "print(torch.cat((x1, x2), dim=1).shape)\n",
        "z = x1.view(-1) #flattens the whole thing\n",
        "print(z.shape)\n",
        "batch = 64\n",
        "x = torch.rand((batch, 2, 5))\n",
        "z = x.view(batch, -1) #flattens the whole thing preserving batch dimension\n",
        "print(z.shape)"
      ],
      "metadata": {
        "colab": {
          "base_uri": "https://localhost:8080/"
        },
        "id": "Xp-dtFfIPxfa",
        "outputId": "e1797261-7ea4-400a-e375-383a3561acab"
      },
      "execution_count": 15,
      "outputs": [
        {
          "output_type": "stream",
          "name": "stdout",
          "text": [
            "torch.Size([4, 5])\n",
            "torch.Size([2, 10])\n",
            "torch.Size([10])\n",
            "torch.Size([64, 10])\n"
          ]
        }
      ]
    },
    {
      "cell_type": "code",
      "source": [
        "z = torch.rand(2,3,2) \n",
        "print(z.shape)\n",
        "x = torch.arange(10) # [10]\n",
        "print(x.shape)\n",
        "print(x.unsqueeze(0).shape)\n",
        "print(x.unsqueeze(1).shape)\n",
        "x = torch.arange(10).unsqueeze(0).unsqueeze(1) # 1x1x10\n",
        "print(x.shape)\n",
        "z = x.squeeze(1)\n",
        "print(z.shape)"
      ],
      "metadata": {
        "colab": {
          "base_uri": "https://localhost:8080/"
        },
        "id": "crP_A-NpRSlw",
        "outputId": "5bd795df-17ca-4824-9af7-55abe2401251"
      },
      "execution_count": 21,
      "outputs": [
        {
          "output_type": "stream",
          "name": "stdout",
          "text": [
            "torch.Size([2, 3, 2])\n",
            "torch.Size([10])\n",
            "torch.Size([1, 10])\n",
            "torch.Size([10, 1])\n",
            "torch.Size([1, 1, 10])\n",
            "torch.Size([1, 10])\n"
          ]
        }
      ]
    },
    {
      "cell_type": "code",
      "source": [],
      "metadata": {
        "id": "U_sCrMbTSfOo"
      },
      "execution_count": null,
      "outputs": []
    }
  ]
}